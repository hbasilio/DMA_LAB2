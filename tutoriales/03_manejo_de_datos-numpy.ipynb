{
  "nbformat": 4,
  "nbformat_minor": 0,
  "metadata": {
    "language_info": {
      "codemirror_mode": {
        "name": "ipython",
        "version": 3
      },
      "file_extension": ".py",
      "mimetype": "text/x-python",
      "name": "python",
      "nbconvert_exporter": "python",
      "pygments_lexer": "ipython3",
      "version": "3.7.9-final"
    },
    "orig_nbformat": 2,
    "kernelspec": {
      "name": "python3",
      "display_name": "Python 3"
    },
    "colab": {
      "name": "03_manejo_de_datos-numpy.ipynb",
      "provenance": [],
      "include_colab_link": true
    }
  },
  "cells": [
    {
      "cell_type": "markdown",
      "metadata": {
        "id": "view-in-github",
        "colab_type": "text"
      },
      "source": [
        "<a href=\"https://colab.research.google.com/github/hbasilio/DMA_LAB2/blob/master/tutoriales/03_manejo_de_datos-numpy.ipynb\" target=\"_parent\"><img src=\"https://colab.research.google.com/assets/colab-badge.svg\" alt=\"Open In Colab\"/></a>"
      ]
    },
    {
      "cell_type": "markdown",
      "metadata": {
        "id": "XqMGDUP6xLQ-"
      },
      "source": [
        "<a href=\"https://colab.research.google.com/github/Argentan/DMA_LAB2/blob/master/tutoriales/03_manejo_de_datos-numpy.ipynb\" target=\"_parent\"><img src=\"https://colab.research.google.com/assets/colab-badge.svg\" alt=\"Open In Colab\"/></a>"
      ]
    },
    {
      "cell_type": "markdown",
      "metadata": {
        "id": "OsgacXmFyHre"
      },
      "source": [
        "# Repaso de Listas"
      ]
    },
    {
      "cell_type": "code",
      "metadata": {
        "id": "0JwB1omFyKc4"
      },
      "source": [
        "b = [1,2,3]"
      ],
      "execution_count": 1,
      "outputs": []
    },
    {
      "cell_type": "markdown",
      "metadata": {
        "id": "Lugr9KHwyUGZ"
      },
      "source": [
        "Aplicando Operadores Matemáticos a Listas"
      ]
    },
    {
      "cell_type": "code",
      "metadata": {
        "id": "2pzuaAdMyMVz",
        "colab": {
          "base_uri": "https://localhost:8080/"
        },
        "outputId": "de8a02cb-0013-49fa-988f-efe1e0fac897"
      },
      "source": [
        "b + b"
      ],
      "execution_count": 2,
      "outputs": [
        {
          "output_type": "execute_result",
          "data": {
            "text/plain": [
              "[1, 2, 3, 1, 2, 3]"
            ]
          },
          "metadata": {},
          "execution_count": 2
        }
      ]
    },
    {
      "cell_type": "code",
      "metadata": {
        "id": "wJfuwm32yP3K",
        "colab": {
          "base_uri": "https://localhost:8080/"
        },
        "outputId": "ad64174c-c64d-43fc-f5b4-93fb844dded6"
      },
      "source": [
        "b * 4"
      ],
      "execution_count": 3,
      "outputs": [
        {
          "output_type": "execute_result",
          "data": {
            "text/plain": [
              "[1, 2, 3, 1, 2, 3, 1, 2, 3, 1, 2, 3]"
            ]
          },
          "metadata": {},
          "execution_count": 3
        }
      ]
    },
    {
      "cell_type": "markdown",
      "metadata": {
        "id": "BuLegKfqyXti"
      },
      "source": [
        "Solución? For Loops?"
      ]
    },
    {
      "cell_type": "code",
      "metadata": {
        "id": "HzUrLTNkyaEI",
        "colab": {
          "base_uri": "https://localhost:8080/"
        },
        "outputId": "2a117866-fdc8-4e46-fc5d-22cd3bdaedf0"
      },
      "source": [
        "for elemento in b:\n",
        "    print(elemento)"
      ],
      "execution_count": 4,
      "outputs": [
        {
          "output_type": "stream",
          "name": "stdout",
          "text": [
            "1\n",
            "2\n",
            "3\n"
          ]
        }
      ]
    },
    {
      "cell_type": "code",
      "metadata": {
        "id": "6I8HjEjKyea7",
        "colab": {
          "base_uri": "https://localhost:8080/"
        },
        "outputId": "55ad3560-5762-409a-ac36-593d8b3905cc"
      },
      "source": [
        "for elemento in b:\n",
        "    print(elemento + elemento)"
      ],
      "execution_count": 5,
      "outputs": [
        {
          "output_type": "stream",
          "name": "stdout",
          "text": [
            "2\n",
            "4\n",
            "6\n"
          ]
        }
      ]
    },
    {
      "cell_type": "markdown",
      "metadata": {
        "id": "0JPqEG49yifH"
      },
      "source": [
        "Y si lo quiero guardar en otra variable (por ejemplo 'c = b+b')?\n",
        "\n",
        "Una forma es:\n",
        "* Definir un array vacio\n",
        "* recorrer todos los elementos en b\n",
        "* sumarlos entre si y meterlos dentro de una lista ([elemento + elemento])\n",
        "* sumar esta lista a 'c' (**c \\+= algo** es lo mismo que **c = c + algo**)"
      ]
    },
    {
      "cell_type": "code",
      "metadata": {
        "id": "XT--J06nyj0u",
        "colab": {
          "base_uri": "https://localhost:8080/"
        },
        "outputId": "384dd77b-dad0-43cd-de6d-61fd9528f807"
      },
      "source": [
        "c = []\n",
        "for elemento in b:\n",
        "    c += [elemento + elemento]\n",
        "c"
      ],
      "execution_count": 6,
      "outputs": [
        {
          "output_type": "execute_result",
          "data": {
            "text/plain": [
              "[2, 4, 6]"
            ]
          },
          "metadata": {},
          "execution_count": 6
        }
      ]
    },
    {
      "cell_type": "code",
      "metadata": {
        "id": "IAqPnmQUyoW0",
        "colab": {
          "base_uri": "https://localhost:8080/"
        },
        "outputId": "7044ebdd-b9cf-4614-a81d-aad48789a66f"
      },
      "source": [
        "c = []\n",
        "for elemento in b:\n",
        "    c += [elemento * 4]\n",
        "c"
      ],
      "execution_count": 7,
      "outputs": [
        {
          "output_type": "execute_result",
          "data": {
            "text/plain": [
              "[4, 8, 12]"
            ]
          },
          "metadata": {},
          "execution_count": 7
        }
      ]
    },
    {
      "cell_type": "markdown",
      "metadata": {
        "id": "_3gakFJLy645"
      },
      "source": [
        "Alternativa??"
      ]
    },
    {
      "cell_type": "markdown",
      "metadata": {
        "id": "OBpD3Ve7xLRE"
      },
      "source": [
        "# Librería Numpy\n",
        "\n",
        "Es el paquete de arrays mas comunmente usado en Python. La diferencia entre un array y una lista nativa es que el array es continuo en memoria mientras que la lista esta encadenada, haciendo que el array sea mucho mas rapido de leer y, por tanto, la estructura de datos natural para el procesamiento de grandes cantidades de datos"
      ]
    },
    {
      "cell_type": "code",
      "metadata": {
        "id": "D99BOYgHxLRH"
      },
      "source": [
        "import numpy as np"
      ],
      "execution_count": 8,
      "outputs": []
    },
    {
      "cell_type": "code",
      "metadata": {
        "id": "E7u8knbdxLRP",
        "colab": {
          "base_uri": "https://localhost:8080/"
        },
        "outputId": "5474853f-aefc-4c2a-c6aa-050dbf4e1327"
      },
      "source": [
        "arr1 = np.array([1,2,3,4])\n",
        "arr1"
      ],
      "execution_count": 9,
      "outputs": [
        {
          "output_type": "execute_result",
          "data": {
            "text/plain": [
              "array([1, 2, 3, 4])"
            ]
          },
          "metadata": {},
          "execution_count": 9
        }
      ]
    },
    {
      "cell_type": "code",
      "metadata": {
        "id": "PoOFReZaxLRW",
        "colab": {
          "base_uri": "https://localhost:8080/"
        },
        "outputId": "8614ca0d-be1d-4c0d-8797-10e2466922b3"
      },
      "source": [
        "type(arr1)"
      ],
      "execution_count": 12,
      "outputs": [
        {
          "output_type": "execute_result",
          "data": {
            "text/plain": [
              "numpy.ndarray"
            ]
          },
          "metadata": {},
          "execution_count": 12
        }
      ]
    },
    {
      "cell_type": "code",
      "metadata": {
        "id": "-0haq5JBxLRa",
        "colab": {
          "base_uri": "https://localhost:8080/"
        },
        "outputId": "18ae124e-f8cc-48fb-9e6e-d1917ddfa31c"
      },
      "source": [
        "arr1 + arr1"
      ],
      "execution_count": 13,
      "outputs": [
        {
          "output_type": "execute_result",
          "data": {
            "text/plain": [
              "array([2, 4, 6, 8])"
            ]
          },
          "metadata": {},
          "execution_count": 13
        }
      ]
    },
    {
      "cell_type": "code",
      "metadata": {
        "id": "XJMIrfXuxLRi",
        "colab": {
          "base_uri": "https://localhost:8080/"
        },
        "outputId": "17995f75-0147-4c7c-bfdf-e3e7a9dc9a29"
      },
      "source": [
        "arr1 / arr1"
      ],
      "execution_count": 14,
      "outputs": [
        {
          "output_type": "execute_result",
          "data": {
            "text/plain": [
              "array([1., 1., 1., 1.])"
            ]
          },
          "metadata": {},
          "execution_count": 14
        }
      ]
    },
    {
      "cell_type": "code",
      "metadata": {
        "id": "RnchQO25xLRr",
        "colab": {
          "base_uri": "https://localhost:8080/"
        },
        "outputId": "563ee023-263c-424e-c3aa-1d3f87ed1acd"
      },
      "source": [
        "arr1 + 100"
      ],
      "execution_count": 15,
      "outputs": [
        {
          "output_type": "execute_result",
          "data": {
            "text/plain": [
              "array([101, 102, 103, 104])"
            ]
          },
          "metadata": {},
          "execution_count": 15
        }
      ]
    },
    {
      "cell_type": "markdown",
      "metadata": {
        "id": "An3VYAhU_PAR"
      },
      "source": [
        "## Dimensiones\n",
        "\n",
        "Los arrays de numpy pueden ser unidimensionales (1D), bidimensionales (2D) o cuantas dimensiones quieran.\n"
      ]
    },
    {
      "cell_type": "code",
      "source": [
        "np.random.rand(3,5)"
      ],
      "metadata": {
        "id": "Xz24udagQOns",
        "outputId": "8a9f486e-3670-41c0-b375-be7927d3304f",
        "colab": {
          "base_uri": "https://localhost:8080/"
        }
      },
      "execution_count": 21,
      "outputs": [
        {
          "output_type": "execute_result",
          "data": {
            "text/plain": [
              "array([[0.63344787, 0.18664291, 0.64647925, 0.51253883, 0.56251526],\n",
              "       [0.25437429, 0.05158251, 0.83692539, 0.10284307, 0.00089603],\n",
              "       [0.63817998, 0.40971436, 0.57061232, 0.72857874, 0.87265346]])"
            ]
          },
          "metadata": {},
          "execution_count": 21
        }
      ]
    },
    {
      "cell_type": "code",
      "metadata": {
        "id": "GLIB9jK4_PAR"
      },
      "source": [
        "data = np.round( np.random.rand(3,5) * 100 )"
      ],
      "execution_count": 16,
      "outputs": []
    },
    {
      "cell_type": "code",
      "metadata": {
        "id": "zxbAMqfH_PAU",
        "colab": {
          "base_uri": "https://localhost:8080/"
        },
        "outputId": "fc449d2c-e4b8-4918-bedb-4fee4abfae0f"
      },
      "source": [
        "data"
      ],
      "execution_count": 22,
      "outputs": [
        {
          "output_type": "execute_result",
          "data": {
            "text/plain": [
              "array([[21., 28., 55., 20., 49.],\n",
              "       [50., 99., 18.,  7., 75.],\n",
              "       [66., 12., 51., 93., 82.]])"
            ]
          },
          "metadata": {},
          "execution_count": 22
        }
      ]
    },
    {
      "cell_type": "code",
      "metadata": {
        "id": "FmWupwhp_PAX",
        "colab": {
          "base_uri": "https://localhost:8080/"
        },
        "outputId": "5b06f30e-4e17-4ac7-cd94-ea5eb6fd8e06"
      },
      "source": [
        "data * 2"
      ],
      "execution_count": 18,
      "outputs": [
        {
          "output_type": "execute_result",
          "data": {
            "text/plain": [
              "array([[ 42.,  56., 110.,  40.,  98.],\n",
              "       [100., 198.,  36.,  14., 150.],\n",
              "       [132.,  24., 102., 186., 164.]])"
            ]
          },
          "metadata": {},
          "execution_count": 18
        }
      ]
    },
    {
      "cell_type": "markdown",
      "metadata": {
        "id": "gM_zQL58_PAc"
      },
      "source": [
        "Tamaño de 'data'"
      ]
    },
    {
      "cell_type": "code",
      "metadata": {
        "id": "YMs7J2pM_PAc",
        "colab": {
          "base_uri": "https://localhost:8080/"
        },
        "outputId": "3619b35d-fb23-48dc-a2ca-a69877f23dd9"
      },
      "source": [
        "data.shape"
      ],
      "execution_count": 23,
      "outputs": [
        {
          "output_type": "execute_result",
          "data": {
            "text/plain": [
              "(3, 5)"
            ]
          },
          "metadata": {},
          "execution_count": 23
        }
      ]
    },
    {
      "cell_type": "markdown",
      "metadata": {
        "id": "FPOowyKpxLR0"
      },
      "source": [
        "## Indexado\n",
        "\n",
        "El indexado en los ndarray funciona igual que el indexado de listas\n",
        "\n",
        "Los elementos de una ndarray se pueden acceder mediante su indice\n",
        "\n",
        "* Todos los indices empiezan en 0\n",
        "* Se usan numeros enteros\n",
        "* El indice maximo equivale a la (cantidad de elementos - 1)\n",
        "* Se accede al elemento con *indice*\n",
        "* Si el indice es negativo, se cuenta desde el final\n",
        "* Se puede hacer \"slicing\" con rangos de indices separados por dos puntos (:)\n",
        "* Se pueden usar indices negativos que cuentan desde atrás pero empezando en -1"
      ]
    },
    {
      "cell_type": "code",
      "metadata": {
        "id": "Rp5wPcNExLR2",
        "colab": {
          "base_uri": "https://localhost:8080/"
        },
        "outputId": "28ce9699-28c7-486f-cb10-fa3c2292f8a2"
      },
      "source": [
        "arr1[0]"
      ],
      "execution_count": 24,
      "outputs": [
        {
          "output_type": "execute_result",
          "data": {
            "text/plain": [
              "1"
            ]
          },
          "metadata": {},
          "execution_count": 24
        }
      ]
    },
    {
      "cell_type": "code",
      "metadata": {
        "id": "ClJghAFvxLR-",
        "colab": {
          "base_uri": "https://localhost:8080/"
        },
        "outputId": "9c5acfc0-71c4-405f-8c40-1dc81b71904b"
      },
      "source": [
        "arr1[3]"
      ],
      "execution_count": 28,
      "outputs": [
        {
          "output_type": "execute_result",
          "data": {
            "text/plain": [
              "4"
            ]
          },
          "metadata": {},
          "execution_count": 28
        }
      ]
    },
    {
      "cell_type": "code",
      "metadata": {
        "id": "GXBMPBmkxLSF",
        "colab": {
          "base_uri": "https://localhost:8080/",
          "height": 165
        },
        "outputId": "3fbc0d57-6923-435c-ae97-9eacafaac722"
      },
      "source": [
        "arr1[len(arr1)]"
      ],
      "execution_count": 29,
      "outputs": [
        {
          "output_type": "error",
          "ename": "IndexError",
          "evalue": "ignored",
          "traceback": [
            "\u001b[0;31m---------------------------------------------------------------------------\u001b[0m",
            "\u001b[0;31mIndexError\u001b[0m                                Traceback (most recent call last)",
            "\u001b[0;32m<ipython-input-29-afd7cfe32612>\u001b[0m in \u001b[0;36m<cell line: 1>\u001b[0;34m()\u001b[0m\n\u001b[0;32m----> 1\u001b[0;31m \u001b[0marr1\u001b[0m\u001b[0;34m[\u001b[0m\u001b[0mlen\u001b[0m\u001b[0;34m(\u001b[0m\u001b[0marr1\u001b[0m\u001b[0;34m)\u001b[0m\u001b[0;34m]\u001b[0m\u001b[0;34m\u001b[0m\u001b[0;34m\u001b[0m\u001b[0m\n\u001b[0m",
            "\u001b[0;31mIndexError\u001b[0m: index 4 is out of bounds for axis 0 with size 4"
          ]
        }
      ]
    },
    {
      "cell_type": "code",
      "metadata": {
        "id": "HNv5-mFOxLSM",
        "colab": {
          "base_uri": "https://localhost:8080/"
        },
        "outputId": "7c0feb22-fcdb-4c51-e059-aa9c7c873d56"
      },
      "source": [
        "arr1[len(arr1) - 1]"
      ],
      "execution_count": 30,
      "outputs": [
        {
          "output_type": "execute_result",
          "data": {
            "text/plain": [
              "4"
            ]
          },
          "metadata": {},
          "execution_count": 30
        }
      ]
    },
    {
      "cell_type": "code",
      "metadata": {
        "id": "3aRTKTMfxLSU",
        "colab": {
          "base_uri": "https://localhost:8080/"
        },
        "outputId": "fd0f3311-0753-4d60-c93f-1b855358a553"
      },
      "source": [
        "arr1[-1]"
      ],
      "execution_count": 34,
      "outputs": [
        {
          "output_type": "execute_result",
          "data": {
            "text/plain": [
              "4"
            ]
          },
          "metadata": {},
          "execution_count": 34
        }
      ]
    },
    {
      "cell_type": "code",
      "metadata": {
        "id": "-OnL7X7qxLSc"
      },
      "source": [
        "arr2d = np.array([[1, 2, 3],\n",
        "                  [4, 5, 6],\n",
        "                  [7, 8, 9]])"
      ],
      "execution_count": 35,
      "outputs": []
    },
    {
      "cell_type": "code",
      "metadata": {
        "id": "CdWsf_fPxLSp",
        "colab": {
          "base_uri": "https://localhost:8080/"
        },
        "outputId": "41534ae0-cb76-40f8-ac92-232492c7b39f"
      },
      "source": [
        "arr2d"
      ],
      "execution_count": 36,
      "outputs": [
        {
          "output_type": "execute_result",
          "data": {
            "text/plain": [
              "array([[1, 2, 3],\n",
              "       [4, 5, 6],\n",
              "       [7, 8, 9]])"
            ]
          },
          "metadata": {},
          "execution_count": 36
        }
      ]
    },
    {
      "cell_type": "code",
      "metadata": {
        "id": "d0BOY-y5xLSv",
        "colab": {
          "base_uri": "https://localhost:8080/"
        },
        "outputId": "22ec49de-cbb7-42eb-f549-8237bb856c07"
      },
      "source": [
        "arr2d[:1]"
      ],
      "execution_count": 39,
      "outputs": [
        {
          "output_type": "execute_result",
          "data": {
            "text/plain": [
              "array([[1, 2, 3]])"
            ]
          },
          "metadata": {},
          "execution_count": 39
        }
      ]
    },
    {
      "cell_type": "code",
      "metadata": {
        "id": "59bha9y-xLS2",
        "colab": {
          "base_uri": "https://localhost:8080/"
        },
        "outputId": "a5a81fee-af43-4e28-fdfa-f6aed4cd3480"
      },
      "source": [
        "arr2d[:2, :]"
      ],
      "execution_count": 44,
      "outputs": [
        {
          "output_type": "execute_result",
          "data": {
            "text/plain": [
              "array([[1, 2, 3],\n",
              "       [4, 5, 6]])"
            ]
          },
          "metadata": {},
          "execution_count": 44
        }
      ]
    },
    {
      "cell_type": "code",
      "metadata": {
        "id": "m-EcqOEJxLS5",
        "colab": {
          "base_uri": "https://localhost:8080/"
        },
        "outputId": "6f546a4d-45e8-4c17-8136-88fa40d18c7b"
      },
      "source": [
        "arr2d[1, :2]"
      ],
      "execution_count": 45,
      "outputs": [
        {
          "output_type": "execute_result",
          "data": {
            "text/plain": [
              "array([4, 5])"
            ]
          },
          "metadata": {},
          "execution_count": 45
        }
      ]
    },
    {
      "cell_type": "code",
      "metadata": {
        "id": "KbO7RdGtxLS8",
        "colab": {
          "base_uri": "https://localhost:8080/"
        },
        "outputId": "e909ef22-29ed-472e-82de-d258b0aa1bea"
      },
      "source": [
        "arr2d[:, 1]"
      ],
      "execution_count": 46,
      "outputs": [
        {
          "output_type": "execute_result",
          "data": {
            "text/plain": [
              "array([2, 5, 8])"
            ]
          },
          "metadata": {},
          "execution_count": 46
        }
      ]
    },
    {
      "cell_type": "markdown",
      "metadata": {
        "id": "aBsjHncpxLTA"
      },
      "source": [
        "## Funciones de agregación\n",
        "\n",
        "Suelen expresarse como métodos del objeto array. En general, tienen como consecuencia disminuir las dimensiones del arreglo y son muy utilizados en matemáticas y física. <br>\n",
        "La siguiente tabla muestra los más utilizados, puede encontrar la documentación [aquí](https://docs.scipy.org/doc/numpy-1.13.0/reference/arrays.ndarray.html#calculation).\n",
        "\n",
        "| Operación | Descripción |\n",
        "|:----------|:------------|\n",
        "| `a.sum()`    | Retorna la suma del arreglo en el eje dado |\n",
        "| `a.min()`    | Retorna el valor mínimo de un eje |\n",
        "| `a.mean()`   | Retorna la media aritmética en un eje dado |\n",
        "| `a.var()`    | Retorna la varianza en un eje dado|\n",
        "| `a.std()`    | Retorna la desviación estándar en un eje dado |\n",
        "| `a.prod()`   | Retorna el producto en un eje dado |\n",
        "| `a.argmin()` | Retorna el índice donde ocurren los valores mínimos de cada eje |\n",
        "| `a.ptp()`    | Valor pico a pico en un eje |\n",
        "| `a.conj()`   | Retorna el conjugado complejo de todos los elementos |\n",
        "| `a.round()`  | Retorna el valor redondeado de cada elemento |\n",
        "| `a.trace()`  | Retorna la suma de las diagonales del arreglo |\n",
        "| `a.argmax()` | Retorna el índice donde ocurren los valores máximos de cada eje |\n",
        "| `a.cumsum()` | Retorna la suma acumulativa en un eje dado |\n",
        "| `a.cumprod()`| Retorna el producto acumulativo en un eje dado |"
      ]
    },
    {
      "cell_type": "code",
      "metadata": {
        "id": "sIRZ_CsvxLTA",
        "colab": {
          "base_uri": "https://localhost:8080/"
        },
        "outputId": "ccbee42b-7000-44ef-8114-d4f14d5296d1"
      },
      "source": [
        "arr1.mean()"
      ],
      "execution_count": 47,
      "outputs": [
        {
          "output_type": "execute_result",
          "data": {
            "text/plain": [
              "2.5"
            ]
          },
          "metadata": {},
          "execution_count": 47
        }
      ]
    },
    {
      "cell_type": "code",
      "metadata": {
        "id": "MZrPXcATxLTE",
        "colab": {
          "base_uri": "https://localhost:8080/"
        },
        "outputId": "6390352f-c187-4628-d68e-b2e213e08f95"
      },
      "source": [
        "arr1.std()"
      ],
      "execution_count": 48,
      "outputs": [
        {
          "output_type": "execute_result",
          "data": {
            "text/plain": [
              "1.118033988749895"
            ]
          },
          "metadata": {},
          "execution_count": 48
        }
      ]
    },
    {
      "cell_type": "code",
      "metadata": {
        "id": "WXIKvNdlxLTH",
        "colab": {
          "base_uri": "https://localhost:8080/"
        },
        "outputId": "cb19cf9b-05fd-4629-93a0-3b8767d434e5"
      },
      "source": [
        "arr1.shape"
      ],
      "execution_count": 49,
      "outputs": [
        {
          "output_type": "execute_result",
          "data": {
            "text/plain": [
              "(4,)"
            ]
          },
          "metadata": {},
          "execution_count": 49
        }
      ]
    },
    {
      "cell_type": "code",
      "metadata": {
        "id": "pT9GKcSVxLTL",
        "colab": {
          "base_uri": "https://localhost:8080/"
        },
        "outputId": "101d947a-0232-4154-a737-875715fcc22a"
      },
      "source": [
        "arr1.size"
      ],
      "execution_count": 50,
      "outputs": [
        {
          "output_type": "execute_result",
          "data": {
            "text/plain": [
              "4"
            ]
          },
          "metadata": {},
          "execution_count": 50
        }
      ]
    },
    {
      "cell_type": "code",
      "metadata": {
        "id": "v9DveLnvxLTP",
        "colab": {
          "base_uri": "https://localhost:8080/"
        },
        "outputId": "0cb8d10f-7dc6-460a-c0da-9da83b00e654"
      },
      "source": [
        "arr2 = np.ones((2, 3))\n",
        "arr2"
      ],
      "execution_count": 51,
      "outputs": [
        {
          "output_type": "execute_result",
          "data": {
            "text/plain": [
              "array([[1., 1., 1.],\n",
              "       [1., 1., 1.]])"
            ]
          },
          "metadata": {},
          "execution_count": 51
        }
      ]
    },
    {
      "cell_type": "code",
      "metadata": {
        "id": "4qiq5xJQ8LW6",
        "colab": {
          "base_uri": "https://localhost:8080/"
        },
        "outputId": "87a95ba6-d536-498d-b14e-67905259ae54"
      },
      "source": [
        "arr1.argmax()"
      ],
      "execution_count": 52,
      "outputs": [
        {
          "output_type": "execute_result",
          "data": {
            "text/plain": [
              "3"
            ]
          },
          "metadata": {},
          "execution_count": 52
        }
      ]
    },
    {
      "cell_type": "code",
      "metadata": {
        "id": "U83l3jIVxLTS",
        "colab": {
          "base_uri": "https://localhost:8080/"
        },
        "outputId": "3d9d5ab4-aef1-49b2-e4f7-4d44ed6023fc"
      },
      "source": [
        "arr2.shape"
      ],
      "execution_count": 53,
      "outputs": [
        {
          "output_type": "execute_result",
          "data": {
            "text/plain": [
              "(2, 3)"
            ]
          },
          "metadata": {},
          "execution_count": 53
        }
      ]
    },
    {
      "cell_type": "code",
      "metadata": {
        "id": "3bciJC6QxLTW",
        "colab": {
          "base_uri": "https://localhost:8080/"
        },
        "outputId": "06e84ae9-f0d8-471e-eaed-7730349d08da"
      },
      "source": [
        "arr2.size"
      ],
      "execution_count": 54,
      "outputs": [
        {
          "output_type": "execute_result",
          "data": {
            "text/plain": [
              "6"
            ]
          },
          "metadata": {},
          "execution_count": 54
        }
      ]
    },
    {
      "cell_type": "code",
      "metadata": {
        "id": "6v-j-IwDxLTZ",
        "colab": {
          "base_uri": "https://localhost:8080/"
        },
        "outputId": "2a1d442d-b113-4ab3-a401-79ca3ae441da"
      },
      "source": [
        "len(arr2)"
      ],
      "execution_count": 55,
      "outputs": [
        {
          "output_type": "execute_result",
          "data": {
            "text/plain": [
              "2"
            ]
          },
          "metadata": {},
          "execution_count": 55
        }
      ]
    },
    {
      "cell_type": "markdown",
      "metadata": {
        "id": "dtsSUUSXxLTd"
      },
      "source": [
        "## Funciones universales\n",
        "\n",
        "Son funciones optimizadas que operan sobre el array. Dificilmente vamos a necesitar hacer algo que no este ya implementado, la lista completa de funciones universales en este [enlace](https://docs.scipy.org/doc/numpy-1.13.0/reference/ufuncs.html#math-operations)"
      ]
    },
    {
      "cell_type": "markdown",
      "metadata": {
        "id": "ULGS-Qy6xLTd"
      },
      "source": [
        "### Funciones para crear ndarrays\n",
        "\n",
        "Hay muchas formas de crear arreglos en Numpy, puede explorarlas todas en este [enlace](https://docs.scipy.org/doc/numpy-1.13.0/reference/routines.array-creation.html). Las más comunes son:\n",
        "\n",
        "| Función | Descripción |\n",
        "|:--------|:------------|\n",
        "| `empty` | Arreglo vacio |\n",
        "| `zeros` | Arreglo de ceros |\n",
        "| `ones`  | Arreglo de unos |\n",
        "| `full`  | Se especifica un valor para llenar todo el arreglo con él |\n",
        "| `identity` | Unos en la diagonal y cero en el resto |\n",
        "| `array` | Constructor genérico |\n",
        "| `fromfunction` | Según una función dada que retorna un valor para cada punto de la coordenada |\n",
        "| `loadtxt` | Carga los datos de un archivo |"
      ]
    },
    {
      "cell_type": "code",
      "metadata": {
        "id": "3oqmmTcMxLTe"
      },
      "source": [
        "np.ones(3)"
      ],
      "execution_count": null,
      "outputs": []
    },
    {
      "cell_type": "code",
      "metadata": {
        "id": "py63Pi48xLTh"
      },
      "source": [
        "np.full([2,5], fill_value=10)"
      ],
      "execution_count": null,
      "outputs": []
    },
    {
      "cell_type": "markdown",
      "metadata": {
        "id": "we6fyUhF4TU8"
      },
      "source": [
        "# Ejercicios"
      ]
    },
    {
      "cell_type": "markdown",
      "metadata": {
        "id": "SYvqbJHa4U5b"
      },
      "source": [
        "\n",
        "\n",
        "1.   Crear un array de 100 números aleatorios con valores de -100 a +100.\n",
        "\n",
        "\n",
        "\n",
        "\n",
        "\n"
      ]
    },
    {
      "cell_type": "code",
      "metadata": {
        "id": "u5qG2KWP4pel",
        "colab": {
          "base_uri": "https://localhost:8080/"
        },
        "outputId": "d73d59c3-97e0-4971-a16c-6ebb69d3e692"
      },
      "source": [
        "import numpy as np\n",
        "\n",
        "# Crear un array de 100 números aleatorios entre -100 y +100\n",
        "numeros_aleatorios = np.random.randint(-100, 101, 100)\n",
        "\n",
        "# Imprimir el array de números aleatorios\n",
        "print(numeros_aleatorios)\n",
        "\n"
      ],
      "execution_count": 56,
      "outputs": [
        {
          "output_type": "stream",
          "name": "stdout",
          "text": [
            "[ -45  -57  -32  -95   15  -96  -20   90  -82   33  -87  -69  -38  -76\n",
            "  -28  -35   22  -65   65   49  -17    5    2  -66   75   54  -41  -50\n",
            "   37    7  -99   50  -66   18  -31  -81  -19  -68  -52  -15   69  -22\n",
            "    5   78  -52   46   49  -76  -78   86   36   22  -79   53   78  -55\n",
            "   88   25   57   62   30    0   48  -85   43   -2  -61  -66  -84   36\n",
            "   58  -29   76  -68 -100  -89   87   77  -57  -18   83   57   92  -14\n",
            "   51   34   46   89   56  -63   81   16    3  -85   32  -41  -70  -27\n",
            "  -57  -87]\n"
          ]
        }
      ]
    },
    {
      "cell_type": "markdown",
      "metadata": {
        "id": "v1F35TCC4qAv"
      },
      "source": [
        "\n",
        "2.   Usando arrays de booleanos crear otros 3 arrays que contengan los positivos, los negativos y los mayores de 50 de ese array."
      ]
    },
    {
      "cell_type": "code",
      "metadata": {
        "id": "yc_DUCQn4q2V",
        "colab": {
          "base_uri": "https://localhost:8080/"
        },
        "outputId": "9d222f50-ef1d-448f-fdd0-b8979ccc7cd2"
      },
      "source": [
        "import numpy as np\n",
        "\n",
        "# Crear un array de 100 números aleatorios entre -100 y +100\n",
        "numeros_aleatorios = np.random.randint(-100, 101, 100)\n",
        "\n",
        "# Crear un array booleano indicando los números positivos\n",
        "positivos = numeros_aleatorios > 0\n",
        "\n",
        "# Crear un array booleano indicando los números negativos\n",
        "negativos = numeros_aleatorios < 0\n",
        "\n",
        "# Crear un array booleano indicando los números mayores de 50\n",
        "mayores_de_50 = numeros_aleatorios > 50\n",
        "\n",
        "# Obtener los arrays de números positivos, negativos y mayores de 50\n",
        "numeros_positivos = numeros_aleatorios[positivos]\n",
        "numeros_negativos = numeros_aleatorios[negativos]\n",
        "numeros_mayores_de_50 = numeros_aleatorios[mayores_de_50]\n",
        "\n",
        "# Imprimir los resultados\n",
        "print(\"Números positivos:\", numeros_positivos)\n",
        "print(\"Números negativos:\", numeros_negativos)\n",
        "print(\"Números mayores de 50:\", numeros_mayores_de_50)"
      ],
      "execution_count": 57,
      "outputs": [
        {
          "output_type": "stream",
          "name": "stdout",
          "text": [
            "Números positivos: [51 22 24 20 85 47  7 72 25 83 98 30 63 52  2 20 66 96 71 14 16 19 46 55\n",
            " 94 88 90  6 47 89 47 69 73 28 36 22 33 60 75 41 10 59 58 79 18 23 41 20\n",
            " 37 95 59 19 13 99 59 50]\n",
            "Números negativos: [ -98  -53  -51  -54  -34  -69  -65  -46  -12  -29  -56   -8  -37  -23\n",
            "  -70  -85   -2  -48  -27  -65  -10  -80   -7  -79  -75  -94  -70  -49\n",
            "  -95   -7  -34 -100  -44  -68  -57  -13  -76  -62  -36  -42  -73  -99\n",
            "   -5   -5]\n",
            "Números mayores de 50: [51 85 72 83 98 63 52 66 96 71 55 94 88 90 89 69 73 60 75 59 58 79 95 59\n",
            " 99 59]\n"
          ]
        }
      ]
    },
    {
      "cell_type": "markdown",
      "metadata": {
        "id": "zg5a3cB54zgf"
      },
      "source": [
        "3.   Crear un array bidimensional 5x5 con todos los valores cero. Usando el indexado de arrays, asigna 1 a todos los elementos de la última fila y 5 a todos los elementos de la primera columna. Finalmente, asigna el valor 100 a todos los elementos del subarray central 3x3 de la matriz de 5x5."
      ]
    },
    {
      "cell_type": "code",
      "metadata": {
        "id": "eNxFHLgI7aAH",
        "colab": {
          "base_uri": "https://localhost:8080/"
        },
        "outputId": "6e7976d5-39ec-4e38-f3a8-14fb25b0e10d"
      },
      "source": [
        "import numpy as np\n",
        "\n",
        "# Crear un array bidimensional 5x5 con valores cero\n",
        "matriz = np.zeros((5, 5))\n",
        "print(matriz)\n",
        "\n",
        "# Asignar 1 a todos los elementos de la última fila\n",
        "matriz[-1, :] = 1\n",
        "print(matriz)\n",
        "\n",
        "# Asignar 5 a todos los elementos de la primera columna\n",
        "matriz[:, 0] = 5\n",
        "print(matriz)\n",
        "\n",
        "# Asignar 100 a todos los elementos del subarray central 3x3\n",
        "matriz[1:4, 1:4] = 100\n",
        "\n",
        "# Imprimir la matriz resultante\n",
        "print(matriz)"
      ],
      "execution_count": 60,
      "outputs": [
        {
          "output_type": "stream",
          "name": "stdout",
          "text": [
            "[[0. 0. 0. 0. 0.]\n",
            " [0. 0. 0. 0. 0.]\n",
            " [0. 0. 0. 0. 0.]\n",
            " [0. 0. 0. 0. 0.]\n",
            " [0. 0. 0. 0. 0.]]\n",
            "[[0. 0. 0. 0. 0.]\n",
            " [0. 0. 0. 0. 0.]\n",
            " [0. 0. 0. 0. 0.]\n",
            " [0. 0. 0. 0. 0.]\n",
            " [1. 1. 1. 1. 1.]]\n",
            "[[5. 0. 0. 0. 0.]\n",
            " [5. 0. 0. 0. 0.]\n",
            " [5. 0. 0. 0. 0.]\n",
            " [5. 0. 0. 0. 0.]\n",
            " [5. 1. 1. 1. 1.]]\n",
            "[[  5.   0.   0.   0.   0.]\n",
            " [  5. 100. 100. 100.   0.]\n",
            " [  5. 100. 100. 100.   0.]\n",
            " [  5. 100. 100. 100.   0.]\n",
            " [  5.   1.   1.   1.   1.]]\n"
          ]
        }
      ]
    },
    {
      "cell_type": "markdown",
      "metadata": {
        "id": "K3b5dKsn7jEO"
      },
      "source": [
        "4.   Crear una matriz de 10 x 3 con valores aleatorios entre cero y uno\n",
        "\n"
      ]
    },
    {
      "cell_type": "code",
      "metadata": {
        "id": "bXR3mAkY7xJr",
        "colab": {
          "base_uri": "https://localhost:8080/"
        },
        "outputId": "2cf745f0-82a7-4ec6-8a19-f1dead01a77f"
      },
      "source": [
        "# Crear una matriz de 10 x 3 con valores aleatorios entre cero y uno\n",
        "matriz = np.random.rand(10, 3)\n",
        "print(matriz)"
      ],
      "execution_count": 65,
      "outputs": [
        {
          "output_type": "stream",
          "name": "stdout",
          "text": [
            "[[0.20586697 0.86763656 0.18672855]\n",
            " [0.10530671 0.21601276 0.08316281]\n",
            " [0.83287561 0.0647352  0.09630344]\n",
            " [0.15518047 0.25684137 0.28794929]\n",
            " [0.4235631  0.1600782  0.82752096]\n",
            " [0.81664993 0.99809662 0.39108609]\n",
            " [0.73543081 0.45242582 0.73656067]\n",
            " [0.97349484 0.38169624 0.6610543 ]\n",
            " [0.16948521 0.96402397 0.84617722]\n",
            " [0.01683318 0.14030188 0.8334229 ]]\n"
          ]
        }
      ]
    },
    {
      "cell_type": "markdown",
      "metadata": {
        "id": "oMjbP0N07xhf"
      },
      "source": [
        "\n",
        "5.   Buscar el valor mínimo de la matriz"
      ]
    },
    {
      "cell_type": "code",
      "metadata": {
        "id": "kMBMIAlr73Az",
        "colab": {
          "base_uri": "https://localhost:8080/"
        },
        "outputId": "e950289e-d867-400f-e705-f3b9f775a05a"
      },
      "source": [
        "min = matriz.min()\n",
        "print (min)"
      ],
      "execution_count": 67,
      "outputs": [
        {
          "output_type": "stream",
          "name": "stdout",
          "text": [
            "0.016833183489194825\n"
          ]
        }
      ]
    },
    {
      "cell_type": "markdown",
      "metadata": {
        "id": "XAW8IQgO73WL"
      },
      "source": [
        "6.   Buscar la posición (indice) del valor mínimo de la matriz"
      ]
    },
    {
      "cell_type": "code",
      "metadata": {
        "id": "iaMPaBPw77QZ",
        "colab": {
          "base_uri": "https://localhost:8080/"
        },
        "outputId": "89d1b528-1208-4270-e263-6c9e6c547b08"
      },
      "source": [
        "pos = matriz.argmin()\n",
        "print (pos)"
      ],
      "execution_count": 68,
      "outputs": [
        {
          "output_type": "stream",
          "name": "stdout",
          "text": [
            "27\n"
          ]
        }
      ]
    }
  ]
}